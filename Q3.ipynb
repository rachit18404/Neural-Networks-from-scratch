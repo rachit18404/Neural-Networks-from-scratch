{
  "nbformat": 4,
  "nbformat_minor": 0,
  "metadata": {
    "colab": {
      "name": "Untitled3.ipynb",
      "provenance": [],
      "collapsed_sections": []
    },
    "kernelspec": {
      "name": "python3",
      "display_name": "Python 3"
    }
  },
  "cells": [
    {
      "cell_type": "code",
      "metadata": {
        "id": "lFTiX9Ew7BJ-"
      },
      "source": [
        "import torch\n",
        "\n",
        "import numpy as np\n",
        "import pandas as pd\n",
        "\n",
        "import matplotlib.pyplot as plt\n",
        "\n",
        "from keras.utils.np_utils import to_categorical\n",
        "from sklearn.model_selection import train_test_split\n",
        "from sklearn.metrics import confusion_matrix, classification_report\n",
        "from torch import nn, optim\n",
        "import torch.nn.functional as F\n"
      ],
      "execution_count": 52,
      "outputs": []
    },
    {
      "cell_type": "code",
      "metadata": {
        "id": "Q38_tQe87KoN"
      },
      "source": [
        "df = pd.read_csv('largeTrain.csv')           #opening dataset\n",
        "df_test=pd.read_csv('largeValidation.csv')"
      ],
      "execution_count": 53,
      "outputs": []
    },
    {
      "cell_type": "code",
      "metadata": {
        "id": "wF_zvUMmIbGx"
      },
      "source": [
        ""
      ],
      "execution_count": 53,
      "outputs": []
    },
    {
      "cell_type": "code",
      "metadata": {
        "id": "6TVtzMiu7PPU"
      },
      "source": [
        ""
      ],
      "execution_count": 53,
      "outputs": []
    },
    {
      "cell_type": "code",
      "metadata": {
        "id": "RCTKoZuU7rsO"
      },
      "source": [
        "X_train = df.iloc[:, 1:]\n",
        "y_train = df.iloc[:, 0]           #extracting from dataset \n",
        "X_test = df_test.iloc[:, 1:]\n",
        "y_test=df_test.iloc[:, 0]\n"
      ],
      "execution_count": 54,
      "outputs": []
    },
    {
      "cell_type": "code",
      "metadata": {
        "id": "6WjZnhKx8KaW"
      },
      "source": [
        ""
      ],
      "execution_count": 54,
      "outputs": []
    },
    {
      "cell_type": "code",
      "metadata": {
        "id": "QjWfD45H8NyF"
      },
      "source": [
        "\n"
      ],
      "execution_count": 54,
      "outputs": []
    },
    {
      "cell_type": "code",
      "metadata": {
        "id": "4Q5oM7Jy8R8B"
      },
      "source": [
        "X_train=np.asarray(X_train)\n",
        "y_train=np.asarray(y_train)\n",
        "X_test=np.asarray(X_test)          \n",
        "y_test=np.asarray(y_test)   #converting to numpy\n",
        "\n"
      ],
      "execution_count": 55,
      "outputs": []
    },
    {
      "cell_type": "code",
      "metadata": {
        "colab": {
          "base_uri": "https://localhost:8080/"
        },
        "id": "lDzt6m_59a2p",
        "outputId": "654c76dc-6f31-4d4d-8d5d-c62ca3ab5da0"
      },
      "source": [
        "X_train = torch.from_numpy(X_train).float()\n",
        "y_train = torch.squeeze(torch.from_numpy(y_train).long())\n",
        "X_test = torch.from_numpy(X_test).float()\n",
        "y_test = torch.squeeze(torch.from_numpy(y_test).long())         #converting to torch from numpy\n",
        "\n",
        "\n",
        "print(X_train.shape, y_train.shape)\n",
        "print(X_test.shape, y_test.shape)"
      ],
      "execution_count": 56,
      "outputs": [
        {
          "output_type": "stream",
          "text": [
            "torch.Size([8999, 128]) torch.Size([8999])\n",
            "torch.Size([999, 128]) torch.Size([999])\n"
          ],
          "name": "stdout"
        }
      ]
    },
    {
      "cell_type": "code",
      "metadata": {
        "id": "wwNkeN6vMta4"
      },
      "source": [
        ""
      ],
      "execution_count": 56,
      "outputs": []
    },
    {
      "cell_type": "code",
      "metadata": {
        "id": "xNTp4eOv_nkb"
      },
      "source": [
        "class Net(nn.Module):\n",
        "  def __init__(self, n_features,hidden_units):\n",
        "    super(Net, self).__init__()\n",
        "    self.fc1 = nn.Linear(n_features, hidden_units)\n",
        "    self.fc2 = nn.Linear(hidden_units, 10)\n",
        "  def forward(self, x):                                       #creating neural network class\n",
        "    x = F.relu(self.fc1(x))  \n",
        "    return torch.softmax(self.fc2(x),dim=1)"
      ],
      "execution_count": 57,
      "outputs": []
    },
    {
      "cell_type": "code",
      "metadata": {
        "id": "EE03O270A3HP"
      },
      "source": [
        "criterian=nn.CrossEntropyLoss()       #using cross etropy loss"
      ],
      "execution_count": 58,
      "outputs": []
    },
    {
      "cell_type": "code",
      "metadata": {
        "id": "lSPqEDhVSR3a"
      },
      "source": [
        "  batch_size=100\n",
        "  XX=torch.split(X_train,batch_size)\n",
        "  yy=torch.split(y_train,batch_size)      #splitting according to batch size"
      ],
      "execution_count": 59,
      "outputs": []
    },
    {
      "cell_type": "code",
      "metadata": {
        "id": "hPcbQ0YHKH7D"
      },
      "source": [
        "def cost_hidden(hidden,lr):\n",
        "\n",
        "  net = Net(X_train.shape[1],hidden)\n",
        "  optimizer = optim.Adam(net.parameters(), lr=0.01)\n",
        "  train_cost=[]\n",
        "  test_cost=[]\n",
        "  for epoch in range(100):\n",
        "    \n",
        "    for batch in range(len(XX)):        #fiiting out model\n",
        "        optimizer.zero_grad()\n",
        "        y_pred = net(XX[batch])\n",
        "        \n",
        "        train_loss =criterian(y_pred,yy[batch])\n",
        "        train_loss.backward()\n",
        "        optimizer.step()\n",
        "\n",
        "  \n",
        "  y_pred = net(X_train)\n",
        "\n",
        "\n",
        "  train_loss =criterian(y_pred,y_train)\n",
        "  train_cost.append(train_loss.item())             #loss of train and test data\n",
        "\n",
        "  ytest_pred=net(X_test)\n",
        "\n",
        "  test_loss =criterian(ytest_pred,y_test)\n",
        "  test_cost.append(test_loss.item())\n",
        "  return [train_cost[0],test_cost[0]]\n",
        "\n"
      ],
      "execution_count": 60,
      "outputs": []
    },
    {
      "cell_type": "code",
      "metadata": {
        "id": "Smae074uLVjk"
      },
      "source": [
        ""
      ],
      "execution_count": 60,
      "outputs": []
    },
    {
      "cell_type": "code",
      "metadata": {
        "id": "EYP-cg4bN5bu"
      },
      "source": [
        "Train_COST=[]\n",
        "Test_COST=[]\n",
        "c1=cost_hidden(5,0.01)\n",
        "c2=cost_hidden(20,0.01)\n",
        "c3=cost_hidden(50,0.01)\n",
        "c4=cost_hidden(100,0.01)\n",
        "c5=cost_hidden(200,0.01)\n",
        "\n",
        "Train_COST.append(c1[0])\n",
        "Train_COST.append(c2[0])\n",
        "Train_COST.append(c3[0])                        #cost for 5 different hidden units\n",
        "Train_COST.append(c4[0])\n",
        "Train_COST.append(c5[0])\n",
        "\n",
        "Test_COST.append(c1[1])\n",
        "Test_COST.append(c2[1])\n",
        "Test_COST.append(c3[1])\n",
        "Test_COST.append(c4[1])\n",
        "Test_COST.append(c5[1])"
      ],
      "execution_count": 61,
      "outputs": []
    },
    {
      "cell_type": "code",
      "metadata": {
        "colab": {
          "base_uri": "https://localhost:8080/",
          "height": 265
        },
        "id": "8ggTjzcFOOjg",
        "outputId": "eb1ab503-4f4d-4e81-9f3c-5b26f5358206"
      },
      "source": [
        "plt.plot([5,20,50,100,200],Train_COST)\n",
        "plt.plot([5,20,50,100,200],Test_COST)         \n",
        "plt.show()"
      ],
      "execution_count": 62,
      "outputs": [
        {
          "output_type": "display_data",
          "data": {
            "image/png": "[encoded data removed]",
            "text/plain": [
              "<Figure size 432x288 with 1 Axes>"
            ]
          },
          "metadata": {
            "tags": [],
            "needs_background": "light"
          }
        }
      ]
    },
    {
      "cell_type": "code",
      "metadata": {
        "id": "f5phSBLRoz0t"
      },
      "source": [
        "def cost_hidden(hidden,lr):\n",
        "\n",
        "  net = Net(X_train.shape[1],hidden)\n",
        "  optimizer = optim.Adam(net.parameters(), lr=0.01)\n",
        "  train_cost=[]\n",
        "  test_cost=[]\n",
        "  for epoch in range(100):\n",
        "                                            #fiiting out model for different learning rates\n",
        "    for batch in range(len(XX)):\n",
        "        optimizer.zero_grad()\n",
        "        y_pred = net(XX[batch])                \n",
        "        \n",
        "        train_loss =criterian(y_pred,yy[batch])\n",
        "        train_loss.backward()\n",
        "        optimizer.step()\n",
        "\n",
        "  \n",
        "    y_pred = net(X_train)\n",
        "  \n",
        "\n",
        "    train_loss =criterian(y_pred,y_train)\n",
        "    train_cost.append(train_loss.item())\n",
        "\n",
        "    ytest_pred=net(X_test)               #loss of train and test data\n",
        "\n",
        "    test_loss =criterian(ytest_pred,y_test)\n",
        "    test_cost.append(test_loss.item())\n",
        "  return train_cost,test_cost\n"
      ],
      "execution_count": 63,
      "outputs": []
    },
    {
      "cell_type": "code",
      "metadata": {
        "id": "M4xtnZPre5kO"
      },
      "source": [
        "\n",
        "train_cost,test_cost=cost_hidden(4,0.1)         #plots of cost vs epochs at different learning rates       \n",
        "\n"
      ],
      "execution_count": 64,
      "outputs": []
    },
    {
      "cell_type": "code",
      "metadata": {
        "colab": {
          "base_uri": "https://localhost:8080/",
          "height": 265
        },
        "id": "nJCwDIKxfWd9",
        "outputId": "82bc2941-3bd5-4d85-a2be-70b8519c6582"
      },
      "source": [
        "plt.plot(train_cost)\n",
        "plt.plot(test_cost)\n",
        "plt.show()"
      ],
      "execution_count": 65,
      "outputs": [
        {
          "output_type": "display_data",
          "data": {
            "image/png": "[encoded data removed]",
            "text/plain": [
              "<Figure size 432x288 with 1 Axes>"
            ]
          },
          "metadata": {
            "tags": [],
            "needs_background": "light"
          }
        }
      ]
    },
    {
      "cell_type": "code",
      "metadata": {
        "colab": {
          "base_uri": "https://localhost:8080/",
          "height": 265
        },
        "id": "8boenDbGpw2u",
        "outputId": "c89d2a05-910a-4488-8f9d-52af15194eea"
      },
      "source": [
        "train_cost,test_cost=cost_hidden(4,0.01)\n",
        "plt.plot(train_cost)\n",
        "plt.plot(test_cost)\n",
        "plt.show()                                 "
      ],
      "execution_count": 66,
      "outputs": [
        {
          "output_type": "display_data",
          "data": {
            "image/png": "[encoded data removed]",
            "text/plain": [
              "<Figure size 432x288 with 1 Axes>"
            ]
          },
          "metadata": {
            "tags": [],
            "needs_background": "light"
          }
        }
      ]
    },
    {
      "cell_type": "code",
      "metadata": {
        "colab": {
          "base_uri": "https://localhost:8080/",
          "height": 265
        },
        "id": "JJxPk1Pbp6C2",
        "outputId": "61de73ad-98d2-4327-8d0b-e7800210fa0c"
      },
      "source": [
        "train_cost,test_cost=cost_hidden(4,0.001)\n",
        "plt.plot(train_cost)\n",
        "plt.plot(test_cost)\n",
        "plt.show()"
      ],
      "execution_count": 67,
      "outputs": [
        {
          "output_type": "display_data",
          "data": {
            "image/png": "[encoded data removed]",
            "text/plain": [
              "<Figure size 432x288 with 1 Axes>"
            ]
          },
          "metadata": {
            "tags": [],
            "needs_background": "light"
          }
        }
      ]
    }
  ]
}